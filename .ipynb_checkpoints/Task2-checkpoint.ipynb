{
 "cells": [
  {
   "cell_type": "markdown",
   "source": [
    "# TASK 2 - Sentiment Analysis\n",
    "\n",
    "In this task we will look at 3 different machine learning algorithms do sentiment analysis on a set containing ca. 10,000 sentences, each having their own label being 'Positive', 'Negative' or 'Neutral'"
   ],
   "metadata": {
    "collapsed": false
   }
  },
  {
   "cell_type": "markdown",
   "source": [
    "## Loading the data\n",
    "\n",
    "The dataset provided i the task is already split up into 3, one **train** set, one **dev** set and one **test** set. The train set contains 7973 sentences, the dev set 1411, and the test set 1181 sentences.\n",
    "\n",
    "To start off we load the 3 data sets into a dictionary where they are stored with their name, 'train', 'dev' and 'test'"
   ],
   "metadata": {
    "collapsed": false
   }
  },
  {
   "cell_type": "code",
   "execution_count": 66,
   "id": "7d32521c",
   "metadata": {},
   "outputs": [
    {
     "name": "stdout",
     "output_type": "stream",
     "text": [
      "Size of the 3 different sets: \n",
      "7973\n",
      "1411\n",
      "1181\n"
     ]
    }
   ],
   "source": [
    "import json\n",
    "import os\n",
    "\n",
    "# open the datasets and store in 'data' dictionary\n",
    "data = {}\n",
    "for name in [\"train\", \"dev\", \"test\"]:\n",
    "    file_path = os.path.join(os.pardir, \"Data\", \"3class\", f\"{name}.json\")\n",
    "    with open(file_path) as filedata:\n",
    "        data[name] = json.load(filedata)\n",
    "\n",
    "print('Size of the 3 different sets: ')\n",
    "print(len(data['train']))\n",
    "print(len(data['dev']))\n",
    "print(len(data['test']))"
   ]
  },
  {
   "cell_type": "markdown",
   "source": [
    "# (1) Preprocessing the data\n",
    "\n",
    "Before using the data in any model, we need to preprocess the data. The reason for preprocessing is to ensure that data is consistent, accurate, and in a format that can be processed effectively by machine learning algorithms.\n",
    "\n",
    "\n",
    "### Translating\n",
    "\n",
    "To start off the preprocessing we check every row's text to see if there are any that are not in norwegian. Every sentence is sent to the 'recognize_language' function. If found to be in english, the sentence will be sent to the 'translate_text' function where the text will be translated to norwegian. On the other hand, if the text is found to be not in english the program will send the sentence to the next step\n",
    "\n",
    "The reason for only checking if the sentence is in english and none other language is because after testing, the 'detect' function from the **langdetect** package would **VERY** often think that a norwegian sentence was in another language, such as danish and german, and therefor send it to be translated. This would cause wrong data in the program and the words could be given a totally different meaning. For example, as you can see from the result of the code below, these 3 sentences were detected as not being norwegian"
   ],
   "metadata": {
    "collapsed": false
   }
  },
  {
   "cell_type": "code",
   "execution_count": 67,
   "outputs": [
    {
     "name": "stdout",
     "output_type": "stream",
     "text": [
      "Lang: id  Text: si din mening\n",
      "Lang: da  Text: enig med vår anmelder?\n",
      "Lang: no  Text: lite nytt\n"
     ]
    }
   ],
   "source": [
    "from langdetect import detect\n",
    "\n",
    "# taken from the 'train.json'\n",
    "text = ['si din mening', 'enig med vår anmelder?', 'lite nytt']\n",
    "\n",
    "for sentence in text:\n",
    "    print(f'Lang: {detect(sentence)}  Text: {sentence}')"
   ],
   "metadata": {
    "collapsed": false,
    "pycharm": {
     "name": "#%%\n"
    }
   }
  },
  {
   "cell_type": "code",
   "execution_count": 68,
   "outputs": [],
   "source": [
    "# this cell contains 2 functions, one that checks language and one that translates if English\n",
    "from langdetect import detect\n",
    "from googletrans import Translator\n",
    "\n",
    "translator = Translator()\n",
    "unrecognized = []\n",
    "norwegian = 0\n",
    "failed = 0\n",
    "n_translated = 0\n",
    "\n",
    "# recognizes the language of the text and translates if English\n",
    "def recognize_language(text):\n",
    "    global norwegian, failed\n",
    "    try:\n",
    "        if detect(text) == 'en':\n",
    "            return translate_text(text)\n",
    "        else:\n",
    "            norwegian += 1\n",
    "            return text\n",
    "    except:\n",
    "        failed += 1\n",
    "        unrecognized.append(text)\n",
    "        return text\n",
    "\n",
    "\n",
    "# translates the text given\n",
    "def translate_text(text):\n",
    "    global n_translated\n",
    "    translated = translator.translate(text, src='en', dest='no')\n",
    "    n_translated += 1\n",
    "    return translated.text\n"
   ],
   "metadata": {
    "collapsed": false,
    "pycharm": {
     "name": "#%%\n"
    }
   }
  },
  {
   "cell_type": "markdown",
   "source": [
    "\n",
    "\n",
    "### Cleaning and Lemmatizing\n",
    "\n",
    "After translating the program will send the sentence to the 'clean_text' function where it will first be put into lowercase. It will then remove any norwegian stop words found and any punctuation symbols.\n",
    "From here the sentence will be sent to the 'lemmatize' function where all the words in the sentence will be reduced to its base/root form, this will be done with the help of the 'NorwegianStemmer' from the nltk library\n"
   ],
   "metadata": {
    "collapsed": false
   }
  },
  {
   "cell_type": "code",
   "execution_count": 69,
   "outputs": [
    {
     "name": "stderr",
     "output_type": "stream",
     "text": [
      "[nltk_data] Downloading package punkt to\n",
      "[nltk_data]     C:\\Users\\colin\\AppData\\Roaming\\nltk_data...\n",
      "[nltk_data]   Package punkt is already up-to-date!\n"
     ]
    }
   ],
   "source": [
    "# this cell contains 2 functions, one that tokenizes the words for each sentence and one that lemmatizes the words\n",
    "\n",
    "import nltk\n",
    "from nltk.corpus import stopwords\n",
    "from nltk.tokenize import word_tokenize\n",
    "\n",
    "punctuation = '''´!\"#$%&'()*+,-./:;<=>?@[\\]^_`{|}~``«»-'''\n",
    "\n",
    "# norwegian stopwords\n",
    "stop_words = stopwords.words('norwegian')\n",
    "\n",
    "# function that 'cleans' the text from the sets, tokenizes and removes stop words and punctuations\n",
    "def clean_text(text):\n",
    "    text = text.lower()\n",
    "    tokens = word_tokenize(text)\n",
    "    tokens = [token for token in tokens if token not in stop_words and token not in punctuation]\n",
    "    text = ' '.join(tokens)\n",
    "    return text\n",
    "\n",
    "\n",
    "from nltk.stem.snowball import NorwegianStemmer\n",
    "nltk.download('punkt')\n",
    "lemmatizer = NorwegianStemmer()\n",
    "\n",
    "def lemmatize(text):\n",
    "    text = clean_text(text)\n",
    "    return lemmatizer.stem(text)\n"
   ],
   "metadata": {
    "collapsed": false,
    "pycharm": {
     "name": "#%%\n"
    }
   }
  },
  {
   "cell_type": "markdown",
   "source": [
    "# Counting frequency of words\n",
    "\n",
    "To get a view of which words are most associated with each of the sentiments, we have implemented a counter to keep track of how many times each word occurs for each sentiment, we use the **Counter** from the **collections** package"
   ],
   "metadata": {
    "collapsed": false
   }
  },
  {
   "cell_type": "code",
   "execution_count": 70,
   "outputs": [],
   "source": [
    "# this cell contains a function that counts the frequency of the words\n",
    "from collections import Counter\n",
    "\n",
    "neg_words = Counter()\n",
    "pos_words = Counter()\n",
    "neu_words = Counter()\n",
    "\n",
    "def count_freq(text, label):\n",
    "    sentiment = label\n",
    "    words = text.split()\n",
    "    if sentiment == 'Negative':\n",
    "        neg_words.update(words)\n",
    "    elif sentiment == 'Positive':\n",
    "        pos_words.update(words)\n",
    "    elif sentiment == 'Neutral':\n",
    "        neu_words.update(words)\n"
   ],
   "metadata": {
    "collapsed": false,
    "pycharm": {
     "name": "#%%\n"
    }
   }
  },
  {
   "cell_type": "markdown",
   "source": [
    "# (2) starting the preprocessing\n",
    "\n",
    "Here we start the preprocessing of each dataset by sending each sentence from each row through the different functions mentioned before. First it gets sent to the **recognize_language** to see if it needs translation or not, then to the **lemmatize** function where each word gets reduced to its base from, and lastly to the **count_freq** funtion so that we can keep track of what words are mostly associated with positive, negative and neutral. and assign the preprocessed text to a corresponding list"
   ],
   "metadata": {
    "collapsed": false
   }
  },
  {
   "cell_type": "code",
   "execution_count": 71,
   "outputs": [],
   "source": [
    "# preprocess the data and translates if needed, finally adds the preprocessed data to a list\n",
    "def preprocesstext(set):\n",
    "    preprocessed = []\n",
    "    for row in set:\n",
    "        text = recognize_language(row['text'])\n",
    "        text = lemmatize(text)\n",
    "        count_freq(text, row['label'])\n",
    "        preprocessed.append(text)\n",
    "    return preprocessed\n",
    "\n",
    "text_train = preprocesstext(data['train'])\n",
    "text_test = preprocesstext(data['test'])\n",
    "text_dev = preprocesstext(data['dev'])\n"
   ],
   "metadata": {
    "collapsed": false,
    "pycharm": {
     "name": "#%%\n"
    }
   }
  },
  {
   "cell_type": "markdown",
   "source": [
    "## Translation info\n",
    "\n",
    "When checking the language of the sentences we kept info about how many of them failed to translate, how many were translated, how many were norwegian and which sentences were unrecognized.\n",
    "as you can see from the output below, 334 of the sentences were translated while 32 other failed to be translated. the **unrecognized** list is the sentences that failed to be translated"
   ],
   "metadata": {
    "collapsed": false
   }
  },
  {
   "cell_type": "code",
   "execution_count": 72,
   "outputs": [
    {
     "name": "stdout",
     "output_type": "stream",
     "text": [
      "Number of norwegian sentences: 10197\n",
      "\n",
      "Number of translated sentences: 336\n",
      "\n",
      "Failed translations: 32\n",
      "\n",
      "Unrecognized sentences: ['2013 .', '1956.', '2011 .', '|| |', '|| |', '5', '|||', '*', '24 \"', '|| |', '|||', '2011 .', '–', '–', '–', '–', '–', '–', '–', '–', '–', '« 2666 »', '( 1968 )', '-', '-', '2012 .', '5,4', '8 .', '–', '6 .', '*', '•']\n",
      "\n"
     ]
    }
   ],
   "source": [
    "#number of norwegian sentences\n",
    "print(f'Number of norwegian sentences: {norwegian}\\n')\n",
    "\n",
    "# number of translated sentences\n",
    "print(f'Number of translated sentences: {n_translated}\\n')\n",
    "\n",
    "# number of failed translations\n",
    "print(f'Failed translations: {failed}\\n')\n",
    "# number of unrecognized sentences\n",
    "\n",
    "print(f'Unrecognized sentences: {unrecognized}\\n')\n"
   ],
   "metadata": {
    "collapsed": false,
    "pycharm": {
     "name": "#%%\n"
    }
   }
  },
  {
   "cell_type": "markdown",
   "source": [
    "# (3) Visualizing the frequency of words\n",
    "\n",
    "Visualize the most common words we will show 3 bar charts using matplotlib. Underneath you can see the 10 most common words for each sentiment"
   ],
   "metadata": {
    "collapsed": false
   }
  },
  {
   "cell_type": "code",
   "execution_count": 73,
   "outputs": [
    {
     "data": {
      "text/plain": "<Figure size 640x480 with 1 Axes>",
      "image/png": "[encoded data removed]"
     },
     "metadata": {},
     "output_type": "display_data"
    },
    {
     "data": {
      "text/plain": "<Figure size 640x480 with 1 Axes>",
      "image/png": "[encoded data removed]"
     },
     "metadata": {},
     "output_type": "display_data"
    },
    {
     "data": {
      "text/plain": "<Figure size 640x480 with 1 Axes>",
      "image/png": "[encoded data removed]"
     },
     "metadata": {},
     "output_type": "display_data"
    }
   ],
   "source": [
    "# frequence of words of each label\n",
    "import matplotlib.pyplot as plt\n",
    "\n",
    "# Get the most common positive, negative, and neutral words\n",
    "pos_words = pos_words.most_common(10)\n",
    "neg_words = neg_words.most_common(10)\n",
    "neu_words = neu_words.most_common(10)\n",
    "\n",
    "# Create a bar chart of the most frequent positive words\n",
    "plt.bar(range(len(pos_words)), [val[1] for val in pos_words], align='center')\n",
    "plt.xticks(range(len(pos_words)), [val[0] for val in pos_words])\n",
    "plt.title('10 Most Frequent Positive Words')\n",
    "plt.show()\n",
    "\n",
    "# Create a bar chart of the most frequent negative words\n",
    "plt.bar(range(len(neg_words)), [val[1] for val in neg_words], align='center')\n",
    "plt.xticks(range(len(neg_words)), [val[0] for val in neg_words])\n",
    "plt.title('10 Most Frequent Negative Words')\n",
    "plt.show()\n",
    "\n",
    "# Create a bar chart of the most frequent neutral words\n",
    "plt.bar(range(len(neu_words)), [val[1] for val in neu_words], align='center')\n",
    "plt.xticks(range(len(neu_words)), [val[0] for val in neu_words])\n",
    "plt.title('10 Most Frequent Neutral Words')\n",
    "plt.show()\n"
   ],
   "metadata": {
    "collapsed": false,
    "pycharm": {
     "name": "#%%\n"
    }
   }
  },
  {
   "cell_type": "markdown",
   "source": [
    "# (4) Labels\n",
    "\n",
    "putting the labels into an own list and turning them into an array"
   ],
   "metadata": {
    "collapsed": false
   }
  },
  {
   "cell_type": "code",
   "execution_count": 74,
   "outputs": [
    {
     "name": "stdout",
     "output_type": "stream",
     "text": [
      "Shape of the arrays: \n",
      "Training label shape: (7973,)\n",
      "Validation label shape: (1411,)\n",
      "Testing label shape: (1181,)\n"
     ]
    }
   ],
   "source": [
    "import numpy as np\n",
    "from sklearn.preprocessing import OneHotEncoder\n",
    "\n",
    "# function that return all the labels from the set as a list\n",
    "def labellist(set):\n",
    "    labels = []\n",
    "    for row in data[set]:\n",
    "        labels.append(row[\"label\"])\n",
    "    return labels\n",
    "\n",
    "\n",
    "# get list of labels from all sets\n",
    "train_label_list = labellist('train')\n",
    "dev_label_list = labellist('dev')\n",
    "test_label_list = labellist('test')\n",
    "\n",
    "\n",
    "# make arrays\n",
    "y_train = np.array(train_label_list)\n",
    "y_dev = np.array(dev_label_list)\n",
    "y_test = np.array(test_label_list)\n",
    "\n",
    "# shape of the arrays\n",
    "print('Shape of the arrays: ')\n",
    "print(f\"Training label shape: {y_train.shape}\")\n",
    "print(f\"Validation label shape: {y_dev.shape}\")\n",
    "print(f\"Testing label shape: {y_test.shape}\")\n"
   ],
   "metadata": {
    "collapsed": false,
    "pycharm": {
     "name": "#%%\n"
    }
   }
  },
  {
   "cell_type": "markdown",
   "source": [
    "# (5) Vectorizing\n",
    "\n",
    "here we are vectorizing the data so that the data is turned into numerical values. this is needed for the machine learning models"
   ],
   "metadata": {
    "collapsed": false
   }
  },
  {
   "cell_type": "code",
   "execution_count": 75,
   "id": "357e3100",
   "metadata": {},
   "outputs": [],
   "source": [
    "from sklearn.feature_extraction.text import CountVectorizer\n",
    "vec = CountVectorizer(stop_words=stop_words, min_df=2)\n",
    "vec.fit(text_train)\n",
    "\n",
    "X_train = vec.transform(text_train).toarray()\n",
    "X_test = vec.transform(text_test).toarray()\n",
    "X_dev = vec.transform(text_dev).toarray()"
   ]
  },
  {
   "cell_type": "markdown",
   "source": [
    "# (6) The models"
   ],
   "metadata": {
    "collapsed": false
   }
  },
  {
   "cell_type": "markdown",
   "source": [
    "### Logistic Regression"
   ],
   "metadata": {
    "collapsed": false
   }
  },
  {
   "cell_type": "code",
   "execution_count": 76,
   "outputs": [
    {
     "name": "stdout",
     "output_type": "stream",
     "text": [
      "MODEL: Logistic Regression\n",
      "Training score: 0.925\n",
      "Validation score: 0.612\n"
     ]
    }
   ],
   "source": [
    "from sklearn.linear_model import LogisticRegression\n",
    "from sklearn.metrics import accuracy_score\n",
    "\n",
    "# Define the logistic regression model\n",
    "logreg = LogisticRegression(max_iter=150)\n",
    "\n",
    "# fit the model\n",
    "logreg.fit(X_train, y_train)\n",
    "\n",
    "# Make predictions on the training and validation datasets using the best estimator\n",
    "train_pred_1 = logreg.predict(X_train)\n",
    "dev_pred_1 = logreg.predict(X_dev)\n",
    "\n",
    "# Print the accuracy scores for the training and validation datasets\n",
    "print(\"MODEL: Logistic Regression\")\n",
    "print(\"Training score: {:.3f}\".format(accuracy_score(y_train, train_pred_1)))\n",
    "print(\"Validation score: {:.3f}\".format(accuracy_score(y_dev, dev_pred_1)))\n"
   ],
   "metadata": {
    "collapsed": false,
    "pycharm": {
     "name": "#%%\n"
    }
   }
  },
  {
   "cell_type": "markdown",
   "source": [
    "### Random Forest"
   ],
   "metadata": {
    "collapsed": false
   }
  },
  {
   "cell_type": "code",
   "execution_count": 77,
   "outputs": [
    {
     "name": "stdout",
     "output_type": "stream",
     "text": [
      "MODEL: Random Forest Classifier\n",
      "Training score: 0.899\n",
      "Validation score: 0.609\n"
     ]
    }
   ],
   "source": [
    "from sklearn.ensemble import RandomForestClassifier\n",
    "\n",
    "rfc = RandomForestClassifier(max_depth= 400, n_jobs=-1)\n",
    "rfc.fit(X_train, y_train)\n",
    "train_pred_2 = rfc.predict(X_train)\n",
    "dev_pred_2 = rfc.predict(X_dev)\n",
    "\n",
    "print(\"MODEL: Random Forest Classifier\")\n",
    "print(\"Training score: {:.3f}\".format(accuracy_score(y_train, train_pred_2)))\n",
    "print(\"Validation score: {:.3f}\".format(accuracy_score(y_dev, dev_pred_2)))"
   ],
   "metadata": {
    "collapsed": false,
    "pycharm": {
     "name": "#%%\n"
    }
   }
  },
  {
   "cell_type": "markdown",
   "source": [
    "### Naive Bayes"
   ],
   "metadata": {
    "collapsed": false
   }
  },
  {
   "cell_type": "code",
   "execution_count": 78,
   "id": "ddffdfa5",
   "metadata": {
    "pycharm": {
     "name": "#%%\n"
    }
   },
   "outputs": [
    {
     "name": "stdout",
     "output_type": "stream",
     "text": [
      "MODEL: Multinomial Naive Bayes\n",
      "Training score: 0.860\n",
      "Validation score: 0.605\n"
     ]
    }
   ],
   "source": [
    "from sklearn.naive_bayes import MultinomialNB\n",
    "\n",
    "mnb = MultinomialNB()\n",
    "mnb.fit(X_train, y_train)\n",
    "train_pred_3 = mnb.predict(X_train)\n",
    "dev_pred_3 = mnb.predict(X_dev)\n",
    "\n",
    "print(\"MODEL: Multinomial Naive Bayes\")\n",
    "print(\"Training score: {:.3f}\".format(accuracy_score(y_train, train_pred_3)))\n",
    "print(\"Validation score: {:.3f}\".format(accuracy_score(y_dev, dev_pred_3)))\n"
   ]
  },
  {
   "cell_type": "markdown",
   "source": [],
   "metadata": {
    "collapsed": false
   }
  },
  {
   "cell_type": "markdown",
   "source": [
    "# (7) Final testing of models\n",
    "\n",
    "here we will test the models one last time and see what output the models will give for some new sentences, one that is supposed to be positive one negative and one neutral\n"
   ],
   "metadata": {
    "collapsed": false
   }
  },
  {
   "cell_type": "markdown",
   "source": [
    "### LOGISTIC REGRESSION final test\n",
    "\n",
    "when testing the logistic regression model on the **test_set** it gives a score of 0.616 which is slightly better than when training the model. the model does however correctly classify the 3 test sentences that we test it on in the end"
   ],
   "metadata": {
    "collapsed": false
   }
  },
  {
   "cell_type": "code",
   "execution_count": 79,
   "outputs": [
    {
     "name": "stdout",
     "output_type": "stream",
     "text": [
      "LOGISTIC REGRESSION TEST: \n",
      "\n",
      "Train score: 0.925\n",
      "Test score: 0.616\n",
      "Sentiment of the new sentence: ['Positive'] - Denne filmen var fantastisk\n",
      "Sentiment of the new sentence: ['Negative'] - det er dårlig vær\n",
      "Sentiment of the new sentence: ['Neutral'] - denne boken var middelmådig\n"
     ]
    }
   ],
   "source": [
    "print('LOGISTIC REGRESSION TEST: \\n')\n",
    "\n",
    "model_train = logreg.predict(X_train)\n",
    "model_test = logreg.predict(X_test)\n",
    "\n",
    "print(f'Train score: {round(accuracy_score(y_train, model_train), 3)}')\n",
    "print(f'Test score: {round(accuracy_score(y_test, model_test), 3)}')\n",
    "\n",
    "\n",
    "# test the model on 3 new sentences\n",
    "test_sentences = ['Denne filmen var fantastisk', 'det er dårlig vær', 'denne boken var middelmådig']\n",
    "\n",
    "for sentence in test_sentences:\n",
    "    new_sentence_vectorized = vec.transform([sentence])\n",
    "    sentiment = logreg.predict(new_sentence_vectorized)\n",
    "    print(f\"Sentiment of the new sentence: {sentiment} - {sentence}\")\n"
   ],
   "metadata": {
    "collapsed": false,
    "pycharm": {
     "name": "#%%\n"
    }
   }
  },
  {
   "cell_type": "markdown",
   "source": [
    "### RANDOM FOREST final test\n",
    "\n",
    "The random forest model gives a worse score when testing it on the test set, and it classifies the first 0f the 3 test sentences wrong. this might be caused by the hyperparameter tuning not being good enough"
   ],
   "metadata": {
    "collapsed": false
   }
  },
  {
   "cell_type": "code",
   "execution_count": 80,
   "outputs": [
    {
     "name": "stdout",
     "output_type": "stream",
     "text": [
      "RANDOM FOREST TEST: \n",
      "\n",
      "Train score: 0.899\n",
      "Test score: 0.594\n",
      "Sentiment of the new sentence: ['Neutral'] - Denne filmen var fantastisk\n",
      "Sentiment of the new sentence: ['Negative'] - det er dårlig vær\n",
      "Sentiment of the new sentence: ['Neutral'] - denne boken var middelmådig\n"
     ]
    }
   ],
   "source": [
    "print('RANDOM FOREST TEST: \\n')\n",
    "\n",
    "model_train = rfc.predict(X_train)\n",
    "model_test = rfc.predict(X_test)\n",
    "\n",
    "print(f'Train score: {round(accuracy_score(y_train, model_train), 3)}')\n",
    "print(f'Test score: {round(accuracy_score(y_test, model_test), 3)}')\n",
    "\n",
    "# test the model on 3 new sentences\n",
    "test_sentences = ['Denne filmen var fantastisk', 'det er dårlig vær', 'denne boken var middelmådig']\n",
    "\n",
    "for sentence in test_sentences:\n",
    "    new_sentence_vectorized = vec.transform([sentence])\n",
    "    sentiment = rfc.predict(new_sentence_vectorized)\n",
    "    print(f\"Sentiment of the new sentence: {sentiment} - {sentence}\")"
   ],
   "metadata": {
    "collapsed": false,
    "pycharm": {
     "name": "#%%\n"
    }
   }
  },
  {
   "cell_type": "markdown",
   "source": [
    "### MULTINOMIAL NAIVE BAYES final test\n",
    "\n",
    "the MNB score on the test set is pretty much the same(only 0.001 better), but it still manages to classify the 3 test sentences correctly"
   ],
   "metadata": {
    "collapsed": false
   }
  },
  {
   "cell_type": "code",
   "execution_count": 81,
   "outputs": [
    {
     "name": "stdout",
     "output_type": "stream",
     "text": [
      "MULTINOMIAL NAIVE BAYES  TEST: \n",
      "\n",
      "Train score: 0.86\n",
      "Test score: 0.607\n",
      "Sentiment of the new sentence: ['Positive'] - Denne filmen var fantastisk\n",
      "Sentiment of the new sentence: ['Negative'] - det er dårlig vær\n",
      "Sentiment of the new sentence: ['Neutral'] - denne boken var middelmådig\n"
     ]
    }
   ],
   "source": [
    "print('MULTINOMIAL NAIVE BAYES  TEST: \\n')\n",
    "\n",
    "model_train = mnb.predict(X_train)\n",
    "model_test = mnb.predict(X_test)\n",
    "\n",
    "print(f'Train score: {round(accuracy_score(y_train, model_train), 4)}')\n",
    "print(f'Test score: {round(accuracy_score(y_test, model_test), 3)}')\n",
    "\n",
    "# test the model on 3 new sentences\n",
    "test_sentences = ['Denne filmen var fantastisk', 'det er dårlig vær', 'denne boken var middelmådig']\n",
    "\n",
    "for sentence in test_sentences:\n",
    "    new_sentence_vectorized = vec.transform([sentence])\n",
    "    sentiment = mnb.predict(new_sentence_vectorized)\n",
    "    print(f\"Sentiment of the new sentence: {sentiment} - {sentence}\")"
   ],
   "metadata": {
    "collapsed": false,
    "pycharm": {
     "name": "#%%\n"
    }
   }
  },
  {
   "cell_type": "markdown",
   "source": [
    "# (8) Conclusion\n",
    "\n",
    "We first loaded the data and then preprocessed the data by scanning for any english sentences and translated if needed, then we lemmatized the data to its base form before we could use the data on the models.\n",
    "\n",
    "The models dind't have a *really* good score with the **logistic regression** being the one that scored the best of them and **random forest** scoring the lowest"
   ],
   "metadata": {
    "collapsed": false,
    "pycharm": {
     "name": "#%% md\n"
    }
   }
  }
 ],
 "metadata": {
  "kernelspec": {
   "display_name": "Python 3 (ipykernel)",
   "language": "python",
   "name": "python3"
  },
  "language_info": {
   "codemirror_mode": {
    "name": "ipython",
    "version": 3
   },
   "file_extension": ".py",
   "mimetype": "text/x-python",
   "name": "python",
   "nbconvert_exporter": "python",
   "pygments_lexer": "ipython3",
   "version": "3.10.9"
  }
 },
 "nbformat": 4,
 "nbformat_minor": 5
}