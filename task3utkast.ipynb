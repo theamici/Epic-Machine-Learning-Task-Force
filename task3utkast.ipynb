{
 "cells": [
  {
   "cell_type": "code",
   "execution_count": 21,
   "id": "78cd859c-5a44-494d-ad53-42455c4d6fdf",
   "metadata": {},
   "outputs": [],
   "source": [
    "#Import the necessary libraries\n",
    "import tensorflow as tf\n",
    "from tensorflow import keras\n",
    "from tensorflow.keras import layers\n"
   ]
  },
  {
   "cell_type": "code",
   "execution_count": 22,
   "id": "e89871fd-aa29-4d92-aae5-16687266e4de",
   "metadata": {},
   "outputs": [
    {
     "name": "stdout",
     "output_type": "stream",
     "text": [
      "Downloading data from https://www.cs.toronto.edu/~kriz/cifar-10-python.tar.gz\n",
      "170498071/170498071 [==============================] - 11s 0us/step\n"
     ]
    }
   ],
   "source": [
    "#Load the CIFAR-10 dataset\n",
    "(train_images, train_labels), (test_images, test_labels) = keras.datasets.cifar10.load_data()\n"
   ]
  },
  {
   "cell_type": "code",
   "execution_count": 23,
   "id": "b8e324bd-f09a-42de-803e-dfc50505776e",
   "metadata": {},
   "outputs": [],
   "source": [
    "#Create a binary classification dataset by selecting a specific category to classify and converting all other labels to 0\n",
    "category_to_classify = 1  # For example, let's say we want to classify images of birds (which have a label of 2)\n",
    "train_labels = (train_labels == category_to_classify).astype(int)\n",
    "test_labels = (test_labels == category_to_classify).astype(int)\n"
   ]
  },
  {
   "cell_type": "code",
   "execution_count": 24,
   "id": "6c95a29a-4ecc-4c9a-896f-ea6d0f02870e",
   "metadata": {},
   "outputs": [],
   "source": [
    "#Preprocess the images by normalizing the pixel values\n",
    "train_images = train_images.astype('float32') / 255.0\n",
    "test_images = test_images.astype('float32') / 255.0\n"
   ]
  },
  {
   "cell_type": "code",
   "execution_count": 25,
   "id": "55628f3e-5aac-4f86-9bce-0b67a2febc69",
   "metadata": {},
   "outputs": [],
   "source": [
    "#Create a basic convolutional neural network\n",
    "model = keras.Sequential([\n",
    "    layers.Conv2D(32, (3, 3), activation='relu', input_shape=(32, 32, 3)),\n",
    "    layers.MaxPooling2D((2, 2)),\n",
    "    layers.Conv2D(64, (3, 3), activation='relu'),\n",
    "    layers.MaxPooling2D((2, 2)),\n",
    "    layers.Conv2D(64, (3, 3), activation='relu'),\n",
    "    layers.Flatten(),\n",
    "    layers.Dense(64, activation='relu'),\n",
    "    layers.Dense(1, activation='sigmoid')\n",
    "])\n"
   ]
  },
  {
   "cell_type": "code",
   "execution_count": 26,
   "id": "0c87d2de-2896-4ebc-a787-645990955c39",
   "metadata": {},
   "outputs": [],
   "source": [
    "#Compile the model\n",
    "model.compile(optimizer='adam',\n",
    "              loss='binary_crossentropy',\n",
    "              metrics=['accuracy'])\n"
   ]
  },
  {
   "cell_type": "code",
   "execution_count": 27,
   "id": "47432f56-4461-44af-90ac-37b6c465e827",
   "metadata": {},
   "outputs": [
    {
     "name": "stdout",
     "output_type": "stream",
     "text": [
      "Epoch 1/10\n",
      "1563/1563 [==============================] - 33s 19ms/step - loss: 0.1952 - accuracy: 0.9257 - val_loss: 0.1334 - val_accuracy: 0.9488\n",
      "Epoch 2/10\n",
      "1563/1563 [==============================] - 30s 19ms/step - loss: 0.1269 - accuracy: 0.9536 - val_loss: 0.1255 - val_accuracy: 0.9529\n",
      "Epoch 3/10\n",
      "1563/1563 [==============================] - 28s 18ms/step - loss: 0.0992 - accuracy: 0.9637 - val_loss: 0.1018 - val_accuracy: 0.9635\n",
      "Epoch 4/10\n",
      "1563/1563 [==============================] - 30s 19ms/step - loss: 0.0827 - accuracy: 0.9710 - val_loss: 0.1070 - val_accuracy: 0.9633\n",
      "Epoch 5/10\n",
      "1563/1563 [==============================] - 30s 19ms/step - loss: 0.0675 - accuracy: 0.9764 - val_loss: 0.0950 - val_accuracy: 0.9673\n",
      "Epoch 6/10\n",
      "1563/1563 [==============================] - 30s 19ms/step - loss: 0.0573 - accuracy: 0.9797 - val_loss: 0.0952 - val_accuracy: 0.9675\n",
      "Epoch 7/10\n",
      "1563/1563 [==============================] - 30s 19ms/step - loss: 0.0473 - accuracy: 0.9832 - val_loss: 0.0990 - val_accuracy: 0.9687\n",
      "Epoch 8/10\n",
      "1563/1563 [==============================] - 29s 18ms/step - loss: 0.0388 - accuracy: 0.9865 - val_loss: 0.1042 - val_accuracy: 0.9668\n",
      "Epoch 9/10\n",
      "1563/1563 [==============================] - 32s 21ms/step - loss: 0.0344 - accuracy: 0.9870 - val_loss: 0.1050 - val_accuracy: 0.9682\n",
      "Epoch 10/10\n",
      "1563/1563 [==============================] - 40s 26ms/step - loss: 0.0268 - accuracy: 0.9905 - val_loss: 0.1031 - val_accuracy: 0.9702\n"
     ]
    },
    {
     "data": {
      "text/plain": [
       "<keras.callbacks.History at 0x2b13eb30820>"
      ]
     },
     "execution_count": 27,
     "metadata": {},
     "output_type": "execute_result"
    }
   ],
   "source": [
    "#Train the model\n",
    "model.fit(train_images, train_labels, epochs=10, validation_data=(test_images, test_labels))\n"
   ]
  },
  {
   "cell_type": "code",
   "execution_count": null,
   "id": "68e53863-4e99-4ad1-a0f4-69c1ed1675bc",
   "metadata": {},
   "outputs": [],
   "source": []
  }
 ],
 "metadata": {
  "kernelspec": {
   "display_name": "Python 3 (ipykernel)",
   "language": "python",
   "name": "python3"
  },
  "language_info": {
   "codemirror_mode": {
    "name": "ipython",
    "version": 3
   },
   "file_extension": ".py",
   "mimetype": "text/x-python",
   "name": "python",
   "nbconvert_exporter": "python",
   "pygments_lexer": "ipython3",
   "version": "3.9.13"
  }
 },
 "nbformat": 4,
 "nbformat_minor": 5
}
